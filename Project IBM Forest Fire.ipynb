{
 "cells": [
  {
   "cell_type": "code",
   "execution_count": 1,
   "metadata": {},
   "outputs": [],
   "source": [
    "import keras"
   ]
  },
  {
   "cell_type": "code",
   "execution_count": 2,
   "metadata": {},
   "outputs": [],
   "source": [
    "from keras.preprocessing.image import ImageDataGenerator"
   ]
  },
  {
   "cell_type": "code",
   "execution_count": 3,
   "metadata": {},
   "outputs": [],
   "source": [
    "\n",
    "train_datagen=ImageDataGenerator(rescale=1./255,shear_range=0.2,rotation_range=180,zoom_range=0.2,horizontal_flip=True)\n"
   ]
  },
  {
   "cell_type": "code",
   "execution_count": 4,
   "metadata": {},
   "outputs": [],
   "source": [
    "test_datagen=ImageDataGenerator(rescale=1./255)\n",
    "\n"
   ]
  },
  {
   "cell_type": "code",
   "execution_count": 5,
   "metadata": {},
   "outputs": [
    {
     "name": "stdout",
     "output_type": "stream",
     "text": [
      "Found 447 images belonging to 2 classes.\n"
     ]
    }
   ],
   "source": [
    "x_train=train_datagen.flow_from_directory(r\"C:\\Users\\hamza\\Downloads\\DataSet\\train_set\",target_size=(128,128),\n",
    "                                        batch_size=32,class_mode='binary')\n",
    "                                        \n",
    "                                       "
   ]
  },
  {
   "cell_type": "code",
   "execution_count": 6,
   "metadata": {},
   "outputs": [
    {
     "name": "stdout",
     "output_type": "stream",
     "text": [
      "Found 121 images belonging to 2 classes.\n"
     ]
    }
   ],
   "source": [
    "\n",
    "\n",
    "x_test=test_datagen.flow_from_directory(r\"C:\\Users\\hamza\\Downloads\\DataSet\\test_set\",target_size=(128,128),\n",
    "                                        batch_size=32,class_mode='binary')\n",
    "                                        "
   ]
  },
  {
   "cell_type": "code",
   "execution_count": 7,
   "metadata": {},
   "outputs": [],
   "source": [
    "\n",
    "from keras.models import Sequential"
   ]
  },
  {
   "cell_type": "code",
   "execution_count": 8,
   "metadata": {},
   "outputs": [],
   "source": [
    "\n",
    "\n",
    "from keras.layers import Dense"
   ]
  },
  {
   "cell_type": "code",
   "execution_count": 9,
   "metadata": {},
   "outputs": [],
   "source": [
    "from keras.layers import Convolution2D\n"
   ]
  },
  {
   "cell_type": "code",
   "execution_count": 10,
   "metadata": {},
   "outputs": [],
   "source": [
    "from keras.layers import MaxPooling2D"
   ]
  },
  {
   "cell_type": "code",
   "execution_count": 11,
   "metadata": {},
   "outputs": [],
   "source": [
    "from keras.layers import Flatten"
   ]
  },
  {
   "cell_type": "code",
   "execution_count": 12,
   "metadata": {},
   "outputs": [],
   "source": [
    "model=Sequential()"
   ]
  },
  {
   "cell_type": "markdown",
   "metadata": {},
   "source": [
    "model.add(Convolution2D(32,(3,3),input_size=128,128,3),activation='relu'))"
   ]
  },
  {
   "cell_type": "code",
   "execution_count": 13,
   "metadata": {},
   "outputs": [],
   "source": [
    "model.add(Convolution2D(32,(3,3),input_shape=(128,128,3),activation='relu'))"
   ]
  },
  {
   "cell_type": "code",
   "execution_count": 14,
   "metadata": {},
   "outputs": [],
   "source": [
    "model.add(MaxPooling2D(pool_size=(2,2)))"
   ]
  },
  {
   "cell_type": "code",
   "execution_count": 15,
   "metadata": {},
   "outputs": [],
   "source": [
    "model.add(Flatten())"
   ]
  },
  {
   "cell_type": "code",
   "execution_count": 16,
   "metadata": {},
   "outputs": [],
   "source": [
    "model.add(Dense(units=150,kernel_initializer='uniform',activation='relu'))"
   ]
  },
  {
   "cell_type": "code",
   "execution_count": 17,
   "metadata": {},
   "outputs": [],
   "source": [
    "model.add(Dense(units=1,activation='sigmoid',kernel_initializer='uniform'))"
   ]
  },
  {
   "cell_type": "code",
   "execution_count": 18,
   "metadata": {},
   "outputs": [],
   "source": [
    "model.compile(loss='binary_crossentropy',optimizer='adam',metrics= [\"accuracy\"])"
   ]
  },
  {
   "cell_type": "code",
   "execution_count": 19,
   "metadata": {},
   "outputs": [
    {
     "name": "stderr",
     "output_type": "stream",
     "text": [
      "D:\\anaconda3\\lib\\site-packages\\keras\\engine\\training.py:1972: UserWarning: `Model.fit_generator` is deprecated and will be removed in a future version. Please use `Model.fit`, which supports generators.\n",
      "  warnings.warn('`Model.fit_generator` is deprecated and '\n"
     ]
    },
    {
     "name": "stdout",
     "output_type": "stream",
     "text": [
      "Epoch 1/25\n",
      "14/14 [==============================] - ETA: 0s - loss: 0.3741 - accuracy: 0.8345WARNING:tensorflow:Your input ran out of data; interrupting training. Make sure that your dataset or generator can generate at least `steps_per_epoch * epochs` batches (in this case, 5 batches). You may need to use the repeat() function when building your dataset.\n",
      "14/14 [==============================] - 22s 2s/step - loss: 0.3741 - accuracy: 0.8345 - val_loss: 0.1269 - val_accuracy: 0.9504\n",
      "Epoch 2/25\n",
      "14/14 [==============================] - 14s 970ms/step - loss: 0.2149 - accuracy: 0.8993\n",
      "Epoch 3/25\n",
      "14/14 [==============================] - 13s 931ms/step - loss: 0.2133 - accuracy: 0.9150\n",
      "Epoch 4/25\n",
      "14/14 [==============================] - 13s 935ms/step - loss: 0.1784 - accuracy: 0.9284\n",
      "Epoch 5/25\n",
      "14/14 [==============================] - 14s 1s/step - loss: 0.1682 - accuracy: 0.9284\n",
      "Epoch 6/25\n",
      "14/14 [==============================] - 15s 1s/step - loss: 0.1702 - accuracy: 0.9217\n",
      "Epoch 7/25\n",
      "14/14 [==============================] - 13s 889ms/step - loss: 0.1809 - accuracy: 0.9172\n",
      "Epoch 8/25\n",
      "14/14 [==============================] - 13s 919ms/step - loss: 0.1534 - accuracy: 0.9351\n",
      "Epoch 9/25\n",
      "14/14 [==============================] - 13s 876ms/step - loss: 0.1707 - accuracy: 0.9217\n",
      "Epoch 10/25\n",
      "14/14 [==============================] - 13s 912ms/step - loss: 0.1485 - accuracy: 0.9351\n",
      "Epoch 11/25\n",
      "14/14 [==============================] - 14s 997ms/step - loss: 0.1689 - accuracy: 0.9128\n",
      "Epoch 12/25\n",
      "14/14 [==============================] - 13s 931ms/step - loss: 0.1555 - accuracy: 0.9351\n",
      "Epoch 13/25\n",
      "14/14 [==============================] - 13s 939ms/step - loss: 0.1627 - accuracy: 0.9329\n",
      "Epoch 14/25\n",
      "14/14 [==============================] - 13s 952ms/step - loss: 0.1715 - accuracy: 0.9374\n",
      "Epoch 15/25\n",
      "14/14 [==============================] - 14s 977ms/step - loss: 0.1492 - accuracy: 0.9217\n",
      "Epoch 16/25\n",
      "14/14 [==============================] - 14s 980ms/step - loss: 0.1331 - accuracy: 0.9485\n",
      "Epoch 17/25\n",
      "14/14 [==============================] - 13s 923ms/step - loss: 0.1461 - accuracy: 0.9396\n",
      "Epoch 18/25\n",
      "14/14 [==============================] - 13s 978ms/step - loss: 0.1488 - accuracy: 0.9351\n",
      "Epoch 19/25\n",
      "14/14 [==============================] - 14s 971ms/step - loss: 0.1697 - accuracy: 0.9306\n",
      "Epoch 20/25\n",
      "14/14 [==============================] - 13s 911ms/step - loss: 0.1274 - accuracy: 0.9508\n",
      "Epoch 21/25\n",
      "14/14 [==============================] - 14s 960ms/step - loss: 0.1267 - accuracy: 0.9351\n",
      "Epoch 22/25\n",
      "14/14 [==============================] - 13s 931ms/step - loss: 0.1624 - accuracy: 0.9195\n",
      "Epoch 23/25\n",
      "14/14 [==============================] - 13s 933ms/step - loss: 0.1416 - accuracy: 0.9351\n",
      "Epoch 24/25\n",
      "14/14 [==============================] - 13s 931ms/step - loss: 0.1199 - accuracy: 0.9463\n",
      "Epoch 25/25\n",
      "14/14 [==============================] - 13s 924ms/step - loss: 0.1289 - accuracy: 0.9485\n"
     ]
    },
    {
     "data": {
      "text/plain": [
       "<keras.callbacks.History at 0x2c155371640>"
      ]
     },
     "execution_count": 19,
     "metadata": {},
     "output_type": "execute_result"
    }
   ],
   "source": [
    "model.fit_generator(x_train,steps_per_epoch=14,epochs=25,validation_data=x_test,validation_steps=5)"
   ]
  },
  {
   "cell_type": "code",
   "execution_count": 21,
   "metadata": {},
   "outputs": [],
   "source": [
    "model.save('ForestFire.h5')"
   ]
  },
  {
   "cell_type": "code",
   "execution_count": null,
   "metadata": {},
   "outputs": [],
   "source": []
  },
  {
   "cell_type": "code",
   "execution_count": null,
   "metadata": {},
   "outputs": [],
   "source": []
  }
 ],
 "metadata": {
  "kernelspec": {
   "display_name": "Python 3",
   "language": "python",
   "name": "python3"
  },
  "language_info": {
   "codemirror_mode": {
    "name": "ipython",
    "version": 3
   },
   "file_extension": ".py",
   "mimetype": "text/x-python",
   "name": "python",
   "nbconvert_exporter": "python",
   "pygments_lexer": "ipython3",
   "version": "3.8.5"
  }
 },
 "nbformat": 4,
 "nbformat_minor": 2
}
